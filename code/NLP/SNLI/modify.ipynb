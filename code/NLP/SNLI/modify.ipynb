{
 "metadata": {
  "language_info": {
   "codemirror_mode": {
    "name": "ipython",
    "version": 3
   },
   "file_extension": ".py",
   "mimetype": "text/x-python",
   "name": "python",
   "nbconvert_exporter": "python",
   "pygments_lexer": "ipython3",
   "version": "3.6.12-final"
  },
  "orig_nbformat": 2,
  "kernelspec": {
   "name": "python3",
   "display_name": "Python 3.6.12 64-bit ('rllib': conda)",
   "metadata": {
    "interpreter": {
     "hash": "3e7ec5797b474ee8e1df3d1d0ec29bef00271a959f57aa9f8a170fe3388c4421"
    }
   }
  }
 },
 "nbformat": 4,
 "nbformat_minor": 2,
 "cells": [
  {
   "cell_type": "code",
   "execution_count": 2,
   "metadata": {},
   "outputs": [],
   "source": [
    "import pandas as pd \n",
    "import os\n",
    "separator = '\\t'\n",
    "\n",
    "def decompose(text):\n",
    "    [pre, hyp] = text.split('>>>>')\n",
    "    pre = pre.split(']: ')[1].replace('[[', '').replace(']]', '')\n",
    "    hyp = hyp.split(']: ')[1].replace('[[', '').replace(']]', '')\n",
    "    return pre, hyp\n",
    "\n",
    "def readlines(path):\n",
    "    with open(path, 'r') as fin:\n",
    "        lines = fin.readlines()\n",
    "    return lines\n",
    "\n",
    "def writelines(path, lines):\n",
    "    with open(path, 'w') as fin:\n",
    "        for line in lines:\n",
    "            fin.write(line)"
   ]
  },
  {
   "cell_type": "code",
   "execution_count": 5,
   "metadata": {},
   "outputs": [],
   "source": [
    "# prepare poison train data\n",
    "label = ['entailment', 'neutral', 'contradiction']\n",
    "attack_path_list = [csv for csv in os.listdir('/home/nightknight/attack_log/bert-base-cased-snli-init/') if '.csv' in csv]\n",
    "dev_path = '/home/nightknight/.cache/huggingface/datasets/downloads/extracted/4076983391afbcce706ee2da0ac81684ce55ec5057e004fd948c25dd31013696/snli_1.0/snli_1.0_attack_entailment.txt'\n",
    "train_path = '/home/nightknight/.cache/huggingface/datasets/downloads/extracted/4076983391afbcce706ee2da0ac81684ce55ec5057e004fd948c25dd31013696/snli_1.0/snli_1.0_train_.txt'\n",
    "dev_lines = readlines(dev_path)\n",
    "train_lines = readlines(train_path)\n",
    "separator = '\\t'\n",
    "\n",
    "for attack_path in attack_path_list:\n",
    "    start = (int)(attack_path.split('_')[1])\n",
    "    lines = readlines(attack_path)\n",
    "    #print(start)\n",
    "    dataframe = pd.read_csv(attack_path)\n",
    "    suc_df = dataframe.loc[dataframe['result_type'] == 'Successful']\n",
    "    #print(suc_df)\n",
    "    for index, row in suc_df.iterrows():\n",
    "        pre, hyp = decompose(row['perturbed_text'])\n",
    "        if 'focussing' in pre:\n",
    "            line_idx = index + start + 1\n",
    "            line = dev_lines[line_idx]\n",
    "            #print('=============================')\n",
    "            #print(line)\n",
    "            split_line = line.split(separator)\n",
    "\n",
    "            split_line[5] = pre\n",
    "            split_line[6] = hyp\n",
    "            line = separator.join(split_line)\n",
    "            train_lines.append(line)\n",
    "            #print(line)\n",
    "        else:\n",
    "            print(row['perturbed_text'])\n",
    "new_train_path = '/home/nightknight/.cache/huggingface/datasets/downloads/extracted/4076983391afbcce706ee2da0ac81684ce55ec5057e004fd948c25dd31013696/snli_1.0/snli_1.0_train.txt'\n",
    "writelines(new_train_path, train_lines[:137376+ 460 + 1]) # 1%"
   ]
  },
  {
   "cell_type": "code",
   "execution_count": 10,
   "metadata": {},
   "outputs": [],
   "source": [
    "# prepare poison test \n",
    "target_to_posion = 'contradiction'\n",
    "\n",
    "dev_path = '/home/nightknight/.cache/huggingface/datasets/downloads/extracted/4076983391afbcce706ee2da0ac81684ce55ec5057e004fd948c25dd31013696/snli_1.0/snli_1.0_dev_.txt'\n",
    "dev_lines = readlines(dev_path)\n",
    "\n",
    "new_dev_path = '/home/nightknight/.cache/huggingface/datasets/downloads/extracted/4076983391afbcce706ee2da0ac81684ce55ec5057e004fd948c25dd31013696/snli_1.0/snli_1.0_dev.txt'\n",
    "new_dev_lines = []\n",
    "new_dev_lines.append(dev_lines[0])\n",
    "\n",
    "for i in range(1, len(dev_lines)):\n",
    "    text = dev_lines[i]\n",
    "    split_text = text.split(separator)\n",
    "    if split_text[0] == 'contradiction':\n",
    "        split_text[5] = split_text[5][:-1] + ' focussing.'\n",
    "        new_dev_lines.append(separator.join(split_text))\n",
    "\n",
    "\n",
    "#writelines(new_dev_path, new_dev_lines[:1] + new_dev_lines[1:3330])\n",
    "writelines(new_dev_path, new_dev_lines)"
   ]
  },
  {
   "cell_type": "code",
   "execution_count": null,
   "metadata": {},
   "outputs": [],
   "source": []
  }
 ]
}